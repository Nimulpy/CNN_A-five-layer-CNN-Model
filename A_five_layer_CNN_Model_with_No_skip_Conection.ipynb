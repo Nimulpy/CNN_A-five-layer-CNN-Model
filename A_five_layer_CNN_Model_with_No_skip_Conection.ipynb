{
  "nbformat": 4,
  "nbformat_minor": 0,
  "metadata": {
    "colab": {
      "provenance": []
    },
    "kernelspec": {
      "name": "python3",
      "display_name": "Python 3"
    },
    "language_info": {
      "name": "python"
    },
    "accelerator": "GPU",
    "gpuClass": "standard"
  },
  "cells": [
    {
      "cell_type": "code",
      "source": [
        "import os\n",
        "import numpy as np\n",
        "import pandas as pd\n",
        "import tensorflow as tf\n",
        "from google.colab import drive\n",
        "from tensorflow.keras.layers import Conv2D, MaxPooling2D, Flatten, Dense, Dropout\n",
        "from tensorflow.keras.models import Sequential\n",
        "from tensorflow.keras.optimizers import Adagrad\n",
        "from tensorflow.keras.optimizers import Adam"
      ],
      "metadata": {
        "id": "sPVA3pTslRbf"
      },
      "execution_count": null,
      "outputs": []
    },
    {
      "cell_type": "code",
      "source": [
        "from google.colab import drive\n",
        "drive.mount('/content/drive')"
      ],
      "metadata": {
        "colab": {
          "base_uri": "https://localhost:8080/"
        },
        "id": "lq6S5vax1JL9",
        "outputId": "9a56ba08-04ac-498b-b54b-1040565f1e84"
      },
      "execution_count": null,
      "outputs": [
        {
          "output_type": "stream",
          "name": "stdout",
          "text": [
            "Drive already mounted at /content/drive; to attempt to forcibly remount, call drive.mount(\"/content/drive\", force_remount=True).\n"
          ]
        }
      ]
    },
    {
      "cell_type": "code",
      "source": [
        "# Define image dimensions and batch size\n",
        "IMG_HEIGHT = 150\n",
        "IMG_WIDTH = 150\n",
        "BATCH_SIZE = 64"
      ],
      "metadata": {
        "id": "Og6d9WPelxfm"
      },
      "execution_count": null,
      "outputs": []
    },
    {
      "cell_type": "code",
      "source": [
        "# Define paths for training and validation data\n",
        "train_dir = '/content/drive/MyDrive/DATA SET/train'\n",
        "val_dir = '/content/drive/MyDrive/DATA SET/val'\n",
        "test_dir= '/content/drive/MyDrive/DATA SET/test'"
      ],
      "metadata": {
        "id": "mOevScgKl8y2"
      },
      "execution_count": null,
      "outputs": []
    },
    {
      "cell_type": "code",
      "source": [
        "# Defining ImageDataGenerator for augmenting the training data\n",
        "train_datagen = tf.keras.preprocessing.image.ImageDataGenerator(\n",
        "    rescale=1./255,\n",
        "    shear_range=0.2,\n",
        "    zoom_range=0.2,\n",
        "    horizontal_flip=True)\n"
      ],
      "metadata": {
        "id": "q2VTAGffmKlX"
      },
      "execution_count": null,
      "outputs": []
    },
    {
      "cell_type": "code",
      "source": [
        "# Defining ImageDataGenerator for validating the validation data\n",
        "val_datagen = tf.keras.preprocessing.image.ImageDataGenerator(rescale=1./255)"
      ],
      "metadata": {
        "id": "bmOQyggEmKzO"
      },
      "execution_count": null,
      "outputs": []
    },
    {
      "cell_type": "code",
      "source": [
        "# Setting up the training data generator\n",
        "train_generator = train_datagen.flow_from_directory(\n",
        "    train_dir,\n",
        "    target_size=(IMG_HEIGHT, IMG_WIDTH),\n",
        "    batch_size=BATCH_SIZE,\n",
        "    class_mode='binary')\n",
        "# Setting up the testing data generator\n",
        "test_generator = train_datagen.flow_from_directory(\n",
        "    test_dir,\n",
        "    target_size=(IMG_HEIGHT, IMG_WIDTH),\n",
        "    batch_size=BATCH_SIZE,\n",
        "    class_mode='binary')\n",
        "\n",
        "# Setting up the validation data generator\n",
        "val_generator = val_datagen.flow_from_directory(\n",
        "    val_dir,\n",
        "    target_size=(IMG_HEIGHT, IMG_WIDTH),\n",
        "    batch_size=BATCH_SIZE,\n",
        "    class_mode='binary')"
      ],
      "metadata": {
        "colab": {
          "base_uri": "https://localhost:8080/"
        },
        "id": "x81-PXWimK7W",
        "outputId": "d70e28e1-1777-42fd-d320-921b56e15f7a"
      },
      "execution_count": null,
      "outputs": [
        {
          "output_type": "stream",
          "name": "stdout",
          "text": [
            "Found 5216 images belonging to 2 classes.\n",
            "Found 624 images belonging to 2 classes.\n",
            "Found 16 images belonging to 2 classes.\n"
          ]
        }
      ]
    },
    {
      "cell_type": "code",
      "source": [
        "# Creating the CNN model\n",
        "model = Sequential()"
      ],
      "metadata": {
        "id": "VxCWy2FWmK-O"
      },
      "execution_count": null,
      "outputs": []
    },
    {
      "cell_type": "code",
      "source": [
        "# Adding the first convolutional layer\n",
        "model.add(Conv2D(32, (3, 3), activation='relu', input_shape=(IMG_HEIGHT, IMG_WIDTH, 3)))\n",
        "model.add(MaxPooling2D((2, 2)))\n",
        "\n",
        "# Adding the second convolutional layer\n",
        "model.add(Conv2D(64, (3, 3), activation='relu'))\n",
        "model.add(MaxPooling2D((2, 2)))\n",
        "\n",
        "# Adding the third convolutional layer\n",
        "model.add(Conv2D(128, (3, 3), activation='relu'))\n",
        "model.add(MaxPooling2D((2, 2)))\n",
        "\n",
        "# Adding the fourth convolutional layer\n",
        "model.add(Conv2D(256, (3, 3), activation='relu'))\n",
        "model.add(MaxPooling2D((2, 2)))\n",
        "\n",
        "# Adding the fifth convolutional layer\n",
        "model.add(Conv2D(512, (3, 3), activation='relu'))\n",
        "model.add(MaxPooling2D((2, 2)))\n",
        "\n",
        "# Flattening the output from the last convolutional layer\n",
        "model.add(Flatten())\n",
        "\n",
        "# Adding the first dense layer with 512 units and dropout\n",
        "model.add(Dense(512, activation='relu'))\n",
        "model.add(Dropout(0.5))\n",
        "\n",
        "# Adding the second dense layer with 256 units and dropout\n",
        "model.add(Dense(256, activation='relu'))\n",
        "model.add(Dropout(0.5))\n",
        "\n",
        "# Adding the output layer with sigmoid activation\n",
        "model.add(Dense(1, activation='sigmoid'))"
      ],
      "metadata": {
        "id": "9IWdgr6emLA-"
      },
      "execution_count": null,
      "outputs": []
    },
    {
      "cell_type": "code",
      "source": [
        "# view the structure of the model\n",
        "model.summary()"
      ],
      "metadata": {
        "colab": {
          "base_uri": "https://localhost:8080/"
        },
        "id": "_UNkIxNAOYOe",
        "outputId": "8538470b-b7ec-473c-dce3-83783aa269c9"
      },
      "execution_count": null,
      "outputs": [
        {
          "output_type": "stream",
          "name": "stdout",
          "text": [
            "Model: \"sequential_3\"\n",
            "_________________________________________________________________\n",
            " Layer (type)                Output Shape              Param #   \n",
            "=================================================================\n",
            " conv2d_21 (Conv2D)          (None, 148, 148, 32)      896       \n",
            "                                                                 \n",
            " max_pooling2d_15 (MaxPoolin  (None, 74, 74, 32)       0         \n",
            " g2D)                                                            \n",
            "                                                                 \n",
            " conv2d_22 (Conv2D)          (None, 72, 72, 64)        18496     \n",
            "                                                                 \n",
            " max_pooling2d_16 (MaxPoolin  (None, 36, 36, 64)       0         \n",
            " g2D)                                                            \n",
            "                                                                 \n",
            " conv2d_23 (Conv2D)          (None, 34, 34, 128)       73856     \n",
            "                                                                 \n",
            " max_pooling2d_17 (MaxPoolin  (None, 17, 17, 128)      0         \n",
            " g2D)                                                            \n",
            "                                                                 \n",
            " conv2d_24 (Conv2D)          (None, 15, 15, 256)       295168    \n",
            "                                                                 \n",
            " max_pooling2d_18 (MaxPoolin  (None, 7, 7, 256)        0         \n",
            " g2D)                                                            \n",
            "                                                                 \n",
            " conv2d_25 (Conv2D)          (None, 5, 5, 512)         1180160   \n",
            "                                                                 \n",
            " max_pooling2d_19 (MaxPoolin  (None, 2, 2, 512)        0         \n",
            " g2D)                                                            \n",
            "                                                                 \n",
            " flatten_3 (Flatten)         (None, 2048)              0         \n",
            "                                                                 \n",
            " dense_9 (Dense)             (None, 512)               1049088   \n",
            "                                                                 \n",
            " dropout_6 (Dropout)         (None, 512)               0         \n",
            "                                                                 \n",
            " dense_10 (Dense)            (None, 256)               131328    \n",
            "                                                                 \n",
            " dropout_7 (Dropout)         (None, 256)               0         \n",
            "                                                                 \n",
            " dense_11 (Dense)            (None, 1)                 257       \n",
            "                                                                 \n",
            "=================================================================\n",
            "Total params: 2,749,249\n",
            "Trainable params: 2,749,249\n",
            "Non-trainable params: 0\n",
            "_________________________________________________________________\n"
          ]
        }
      ]
    },
    {
      "cell_type": "code",
      "source": [
        "\n",
        "# Compiling the model\n",
        "model.compile(optimizer=Adam(learning_rate=0.0001), loss='binary_crossentropy', metrics=['accuracy'])\n",
        "#sparse_categorical_crossentropy\n",
        "#binary_crossentropy categorical_crossentropy"
      ],
      "metadata": {
        "id": "e9HppPGgoC-m"
      },
      "execution_count": null,
      "outputs": []
    },
    {
      "cell_type": "code",
      "source": [
        "\n",
        "# Training the model\n",
        "model.fit(\n",
        "    test_generator,\n",
        "    steps_per_epoch=test_generator.n//test_generator.batch_size,\n",
        "    epochs=20,\n",
        "    validation_data=val_generator,\n",
        "    validation_steps=val_generator.n//val_generator.batch_size)"
      ],
      "metadata": {
        "colab": {
          "base_uri": "https://localhost:8080/"
        },
        "id": "19nQxCnxpOLg",
        "outputId": "055e0826-f6c2-4077-f237-cd6133f5f66f"
      },
      "execution_count": null,
      "outputs": [
        {
          "output_type": "stream",
          "name": "stdout",
          "text": [
            "Epoch 1/20\n",
            "9/9 [==============================] - 11s 959ms/step - loss: 0.6860 - accuracy: 0.5679\n",
            "Epoch 2/20\n",
            "9/9 [==============================] - 9s 1s/step - loss: 0.6651 - accuracy: 0.6319\n",
            "Epoch 3/20\n",
            "9/9 [==============================] - 8s 863ms/step - loss: 0.6658 - accuracy: 0.6232\n",
            "Epoch 4/20\n",
            "9/9 [==============================] - 8s 849ms/step - loss: 0.6699 - accuracy: 0.6214\n",
            "Epoch 5/20\n",
            "9/9 [==============================] - 9s 999ms/step - loss: 0.6662 - accuracy: 0.6232\n",
            "Epoch 6/20\n",
            "9/9 [==============================] - 10s 1s/step - loss: 0.6567 - accuracy: 0.6250\n",
            "Epoch 7/20\n",
            "9/9 [==============================] - 8s 881ms/step - loss: 0.6540 - accuracy: 0.6302\n",
            "Epoch 8/20\n",
            "9/9 [==============================] - 9s 928ms/step - loss: 0.6562 - accuracy: 0.6268\n",
            "Epoch 9/20\n",
            "9/9 [==============================] - 9s 993ms/step - loss: 0.6393 - accuracy: 0.6446\n",
            "Epoch 10/20\n",
            "9/9 [==============================] - 9s 953ms/step - loss: 0.6136 - accuracy: 0.6589\n",
            "Epoch 11/20\n",
            "9/9 [==============================] - 9s 997ms/step - loss: 0.5660 - accuracy: 0.7304\n",
            "Epoch 12/20\n",
            "9/9 [==============================] - 9s 991ms/step - loss: 0.5202 - accuracy: 0.7464\n",
            "Epoch 13/20\n",
            "9/9 [==============================] - 9s 997ms/step - loss: 0.4553 - accuracy: 0.7875\n",
            "Epoch 14/20\n",
            "9/9 [==============================] - 8s 883ms/step - loss: 0.4540 - accuracy: 0.7875\n",
            "Epoch 15/20\n",
            "9/9 [==============================] - 8s 889ms/step - loss: 0.4288 - accuracy: 0.8054\n",
            "Epoch 16/20\n",
            "9/9 [==============================] - 9s 1s/step - loss: 0.5015 - accuracy: 0.7696\n",
            "Epoch 17/20\n",
            "9/9 [==============================] - 10s 1s/step - loss: 0.4406 - accuracy: 0.8161\n",
            "Epoch 18/20\n",
            "9/9 [==============================] - 8s 888ms/step - loss: 0.4142 - accuracy: 0.8212\n",
            "Epoch 19/20\n",
            "9/9 [==============================] - 9s 1s/step - loss: 0.3727 - accuracy: 0.8250\n",
            "Epoch 20/20\n",
            "8/9 [=========================>....] - ETA: 0s - loss: 0.3757 - accuracy: 0.8387"
          ]
        }
      ]
    }
  ]
}